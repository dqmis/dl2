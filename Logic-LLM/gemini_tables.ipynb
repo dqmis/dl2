{
 "cells": [
  {
   "cell_type": "code",
   "execution_count": 1,
   "metadata": {},
   "outputs": [],
   "source": [
    "import json\n",
    "import os"
   ]
  },
  {
   "cell_type": "code",
   "execution_count": 2,
   "metadata": {},
   "outputs": [],
   "source": [
    "with open(\"./baselines/evaluation/evaluation_baselines.json\", \"r\") as f:\n",
    "    baseline_results = json.load(f)\n",
    "\n",
    "with open(\"./outputs/evaluation/evaluation_logic_programs_gemini.json\", \"r\") as f:\n",
    "    logic_lm_results = json.load(f)\n",
    "\n",
    "\n",
    "dataset_names = (\"ProntoQA\", \"ProofWriter\", \"FOLIO\", \"LogicalDeduction\", \"AR-LSAT\")\n"
   ]
  },
  {
   "cell_type": "code",
   "execution_count": 9,
   "metadata": {},
   "outputs": [],
   "source": [
    "def print_Logic_LM_table(logic_lm_results, dataset_names, backup='CoT'):\n",
    "    for dataset in dataset_names:\n",
    "\n",
    "        table_header = f\"|{dataset}|\"\n",
    "        table_header += \"|\".join(logic_lm_results.keys()) \n",
    "        table_header += \"|\\n |---|---|---|---|---| \\n\"\n",
    "\n",
    "        table_rows = []\n",
    "        for metric in ['Overall_Accuracy', 'Executable_Rate', 'Executable_Accuracy']:\n",
    "            row = f\"|{metric}|\"\n",
    "            for model_name in logic_lm_results.keys():\n",
    "                try:\n",
    "                    row += f\"{100 * logic_lm_results[model_name][dataset][backup][metric]:.2f}\"\n",
    "                    if logic_lm_results[Overall_Accuracy][dataset][backup][metric] == 0:\n",
    "                        print(model_name, dataset, backup)\n",
    "                except:\n",
    "                    row += \"---\"\n",
    "                row += \"|\"\n",
    "            table_rows.append(row)\n",
    "\n",
    "        table_string = table_header + \"\\n\".join(table_rows)\n",
    "        print(table_string)\n",
    "        print()\n",
    "\n",
    "\n",
    "def print_best_vs_best_table(baseline_results, logic_lm_results, dataset_names):\n",
    "    for dataset in dataset_names:\n",
    "        max = -1\n",
    "        base_direct = -1\n",
    "        base_cot = -1\n",
    "        \n",
    "        max_model = \"\"\n",
    "        base_direct_model = \"\"\n",
    "        base_cot_model = \"\"\n",
    "\n",
    "        for model_name in baseline_results.keys():\n",
    "            for backup in [\"random\", \"Direct\", \"CoT\"]:\n",
    "                acc = logic_lm_results[model_name][dataset][backup]['Overall_Accuracy']\n",
    "                if acc > max:\n",
    "                    max = acc\n",
    "                    max_model = f\"{model_name}   {backup}\"\n",
    "            direct_acc = baseline_results[model_name][dataset]['Direct']['Average_EM_score']\n",
    "            cot_acc = baseline_results[model_name][dataset]['CoT']['Average_EM_score']\n",
    "            if direct_acc > base_direct:\n",
    "                base_direct = direct_acc\n",
    "                base_direct_model = model_name\n",
    "            if cot_acc > base_cot:\n",
    "                base_cot = cot_acc\n",
    "                base_cot_model = model_name\n",
    "\n",
    "        row_acc = \" | \".join([f\"{100*base_direct:.2f}\", f\"{100*base_cot:.2f}\", f\"{100*max:.2f}\"])\n",
    "        row_model = \" | \".join([base_direct_model, base_cot_model, max_model])\n",
    "\n",
    "        print(row_acc)        \n",
    "        print(row_model)"
   ]
  },
  {
   "cell_type": "code",
   "execution_count": 11,
   "metadata": {},
   "outputs": [
    {
     "name": "stdout",
     "output_type": "stream",
     "text": [
      "oandneij\n",
      "oandneij\n",
      "oandneij\n",
      "oandneij\n",
      "oandneij\n",
      "oandneij\n",
      "|ProntoQA|gemini-1.0-pro-vision-001|gemini-1.5-pro-preview-0409|gemini-1.5-pro-preview-0514|gemini-1.5-flash-preview-0514|\n",
      " |---|---|---|---|---| \n",
      "|Overall_Accuracy|77.40|93.80|0.00|0.00|\n",
      "|Executable_Rate|100.00|96.40|0.00|0.00|\n",
      "|Executable_Accuracy|77.40|97.30|0.00|0.00|\n",
      "\n",
      "oandneij\n",
      "oandneij\n",
      "oandneij\n",
      "|ProofWriter|gemini-1.0-pro-vision-001|gemini-1.5-pro-preview-0409|gemini-1.5-pro-preview-0514|gemini-1.5-flash-preview-0514|\n",
      " |---|---|---|---|---| \n",
      "|Overall_Accuracy|49.08|71.96|0.00|2.50|\n",
      "|Executable_Rate|64.44|89.36|0.00|4.67|\n",
      "|Executable_Accuracy|76.17|80.53|0.00|53.57|\n",
      "\n",
      "|FOLIO|gemini-1.0-pro-vision-001|gemini-1.5-pro-preview-0409|gemini-1.5-pro-preview-0514|gemini-1.5-flash-preview-0514|\n",
      " |---|---|---|---|---| \n",
      "|Overall_Accuracy|33.00|50.00|65.67|4.41|\n",
      "|Executable_Rate|48.50|59.90|77.11|4.41|\n",
      "|Executable_Accuracy|68.04|83.47|85.16|100.00|\n",
      "\n",
      "|LogicalDeduction|gemini-1.0-pro-vision-001|gemini-1.5-pro-preview-0409|gemini-1.5-pro-preview-0514|gemini-1.5-flash-preview-0514|\n",
      " |---|---|---|---|---| \n",
      "|Overall_Accuracy|53.67|52.33|84.67|50.00|\n",
      "|Executable_Rate|60.00|60.00|100.00|71.67|\n",
      "|Executable_Accuracy|89.44|87.22|84.67|69.77|\n",
      "\n",
      "oandneij\n",
      "oandneij\n",
      "oandneij\n",
      "oandneij\n",
      "oandneij\n",
      "oandneij\n",
      "|AR-LSAT|gemini-1.0-pro-vision-001|gemini-1.5-pro-preview-0409|gemini-1.5-pro-preview-0514|gemini-1.5-flash-preview-0514|\n",
      " |---|---|---|---|---| \n",
      "|Overall_Accuracy|0.00|0.00|16.02|20.35|\n",
      "|Executable_Rate|0.00|0.00|25.97|33.77|\n",
      "|Executable_Accuracy|0.00|0.00|61.67|60.26|\n",
      "\n"
     ]
    }
   ],
   "source": [
    "print_Logic_LM_table(logic_lm_results, dataset_names)"
   ]
  },
  {
   "cell_type": "code",
   "execution_count": 5,
   "metadata": {},
   "outputs": [
    {
     "name": "stdout",
     "output_type": "stream",
     "text": [
      "79.96 | 99.34 | 95.60\n",
      "gemini-1.5-pro-preview-0514 | gemini-1.5-pro-preview-0514 | gemini-1.5-pro-preview-0409   random\n",
      "56.67 | 74.11 | 74.66\n",
      "gemini-1.5-pro-preview-0514 | gemini-1.5-pro-preview-0409 | gemini-1.5-pro-preview-0409   random\n",
      "66.67 | 77.61 | 71.14\n",
      "gemini-1.5-flash-preview-0514 | gemini-1.5-pro-preview-0409 | gemini-1.5-pro-preview-0514   random\n",
      "59.00 | 69.00 | 84.67\n",
      "gemini-1.5-pro-preview-0514 | gemini-1.5-pro-preview-0409 | gemini-1.5-pro-preview-0514   random\n",
      "28.14 | 25.54 | 32.47\n",
      "gemini-1.5-pro-preview-0514 | gemini-1.0-pro-vision-001 | gemini-1.5-flash-preview-0514   random\n"
     ]
    }
   ],
   "source": [
    "print_best_vs_best_table(baseline_results, logic_lm_results, dataset_names)"
   ]
  },
  {
   "cell_type": "code",
   "execution_count": 6,
   "metadata": {},
   "outputs": [],
   "source": [
    "def print_all_gemini_results(baseline_results, logic_lm_results, dataset_names):\n",
    "    for dataset in dataset_names:\n",
    "        for model_name in baseline_results.keys():\n",
    "            acc = logic_lm_results[model_name][dataset]['Overall_Accuracy']\n",
    "            direct_acc = baseline_results[model_name][dataset]['Direct']['Average_EM_score']\n",
    "            cot_acc = baseline_results[model_name][dataset]['CoT']['Average_EM_score']\n",
    "            if acc > max:\n",
    "                max = acc\n",
    "                max_model = model_name\n",
    "            if direct_acc > base_direct:\n",
    "                base_direct = direct_acc\n",
    "                base_direct_model = model_name\n",
    "            if cot_acc > base_cot:\n",
    "                base_cot = cot_acc\n",
    "                base_cot_model = model_name\n",
    "\n",
    "        row_acc = \" | \".join([f\"{100*base_direct:.2f}\", f\"{100*base_cot:.2f}\", f\"{100*max:.2f}\"])\n",
    "        row_model = \" | \".join([base_direct_model, base_cot_model, max_model])\n",
    "\n",
    "        print(row_acc)        \n",
    "        print(row_model)"
   ]
  }
 ],
 "metadata": {
  "kernelspec": {
   "display_name": "solver",
   "language": "python",
   "name": "python3"
  },
  "language_info": {
   "codemirror_mode": {
    "name": "ipython",
    "version": 3
   },
   "file_extension": ".py",
   "mimetype": "text/x-python",
   "name": "python",
   "nbconvert_exporter": "python",
   "pygments_lexer": "ipython3",
   "version": "3.12.3"
  },
  "orig_nbformat": 4,
  "vscode": {
   "interpreter": {
    "hash": "ae49cb43b6d9e770d85e5ce15fa5cfe518ebb40f6b4914cb8dc14414c280a84a"
   }
  }
 },
 "nbformat": 4,
 "nbformat_minor": 2
}
