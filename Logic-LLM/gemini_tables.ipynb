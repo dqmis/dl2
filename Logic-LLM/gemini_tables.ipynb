{
 "cells": [
  {
   "cell_type": "code",
   "execution_count": 1,
   "metadata": {},
   "outputs": [],
   "source": [
    "import json\n",
    "import os"
   ]
  },
  {
   "cell_type": "code",
   "execution_count": 2,
   "metadata": {},
   "outputs": [],
   "source": [
    "def print_Logic_LM_table(logic_lm_results, dataset_names, backup='CoT'):\n",
    "    for dataset in dataset_names:\n",
    "\n",
    "        table_header = f\"|{dataset}|\"\n",
    "        table_header += \"|\".join(logic_lm_results.keys()) \n",
    "        table_header += \"|\\n |---|---|---|---|---| \\n\"\n",
    "\n",
    "        table_rows = []\n",
    "        for metric in ['Overall_Accuracy', 'Executable_Rate', 'Executable_Accuracy']:\n",
    "            row = f\"|{metric}|\"\n",
    "            for model_name in logic_lm_results.keys():\n",
    "                try:\n",
    "                    row += f\"{100 * logic_lm_results[model_name][dataset][backup][metric]:.2f}\"\n",
    "                except:\n",
    "                    row += \"---\"\n",
    "                row += \"|\"\n",
    "            table_rows.append(row)\n",
    "\n",
    "        table_string = table_header + \"\\n\".join(table_rows)\n",
    "        print(table_string)\n",
    "        print()\n",
    "\n",
    "\n",
    "def print_best_vs_best_table(baseline_results, logic_lm_results, dataset_names):\n",
    "    for dataset in dataset_names:\n",
    "        max = -1\n",
    "        base_direct = -1\n",
    "        base_cot = -1\n",
    "        \n",
    "        max_model = \"\"\n",
    "        base_direct_model = \"\"\n",
    "        base_cot_model = \"\"\n",
    "\n",
    "        for model_name in baseline_results.keys():\n",
    "            for backup in [\"random\", \"Direct\", \"CoT\"]:\n",
    "                acc = logic_lm_results[model_name][dataset][backup]['Overall_Accuracy']\n",
    "                if acc > max:\n",
    "                    max = acc\n",
    "                    max_model = f\"{model_name}   {backup}\"\n",
    "            direct_acc = baseline_results[model_name][dataset]['Direct']['Average_EM_score']\n",
    "            cot_acc = baseline_results[model_name][dataset]['CoT']['Average_EM_score']\n",
    "            if direct_acc > base_direct:\n",
    "                base_direct = direct_acc\n",
    "                base_direct_model = model_name\n",
    "            if cot_acc > base_cot:\n",
    "                base_cot = cot_acc\n",
    "                base_cot_model = model_name\n",
    "\n",
    "        row_acc = \" | \".join([f\"{100*base_direct:.2f}\", f\"{100*base_cot:.2f}\", f\"{100*max:.2f}\"])\n",
    "        row_model = \" | \".join([base_direct_model, base_cot_model, max_model])\n",
    "\n",
    "        print(row_acc)        \n",
    "        print(row_model)"
   ]
  },
  {
   "cell_type": "code",
   "execution_count": 3,
   "metadata": {},
   "outputs": [],
   "source": [
    "with open(\"./baselines/evaluation/evaluation_baselines.json\", \"r\") as f:\n",
    "    baseline_results = json.load(f)\n",
    "\n",
    "with open(\"./outputs/evaluation/evaluation_logic_programs_gemini.json\", \"r\") as f:\n",
    "    logic_lm_results = json.load(f)\n",
    "\n",
    "\n",
    "dataset_names = (\"ProntoQA\", \"ProofWriter\", \"FOLIO\", \"LogicalDeduction\", \"AR-LSAT\")\n"
   ]
  },
  {
   "cell_type": "code",
   "execution_count": 6,
   "metadata": {},
   "outputs": [
    {
     "data": {
      "text/plain": [
       "{'ProntoQA': {'Direct': {'Average_EM_score': 0.0},\n",
       "  'CoT': {'Average_EM_score': 0.0}},\n",
       " 'ProofWriter': {'Direct': {'Average_EM_score': 0.0}},\n",
       " 'FOLIO': {'Direct': {'Average_EM_score': 0.0}},\n",
       " 'LogicalDeduction': {'Direct': {'Average_EM_score': 0.0}},\n",
       " 'AR-LSAT': {'Direct': {'Average_EM_score': 0.0}}}"
      ]
     },
     "execution_count": 6,
     "metadata": {},
     "output_type": "execute_result"
    }
   ],
   "source": [
    "baseline_results['gemini-1.0-pro-vision-001']"
   ]
  },
  {
   "cell_type": "code",
   "execution_count": 11,
   "metadata": {},
   "outputs": [
    {
     "data": {
      "text/plain": [
       "{'ProntoQA': {'random': {'Overall_Accuracy': 0.464,\n",
       "   'Executable_Rate': 0.0,\n",
       "   'Executable_Accuracy': 0},\n",
       "  'Direct': {'Overall_Accuracy': 0,\n",
       "   'Executable_Rate': 0.0,\n",
       "   'Executable_Accuracy': 0},\n",
       "  'CoT': {'Overall_Accuracy': 0,\n",
       "   'Executable_Rate': 0.0,\n",
       "   'Executable_Accuracy': 0}},\n",
       " 'ProofWriter': {'random': {'Overall_Accuracy': 0.345,\n",
       "   'Executable_Rate': 0.0,\n",
       "   'Executable_Accuracy': 0},\n",
       "  'Direct': {'Overall_Accuracy': 0,\n",
       "   'Executable_Rate': 0.0,\n",
       "   'Executable_Accuracy': 0},\n",
       "  'CoT': {'Overall_Accuracy': 0,\n",
       "   'Executable_Rate': 0.0,\n",
       "   'Executable_Accuracy': 0}},\n",
       " 'FOLIO': {'random': {'Overall_Accuracy': 0.7114427860696517,\n",
       "   'Executable_Rate': 0.7711442786069652,\n",
       "   'Executable_Accuracy': 0.8516129032258064},\n",
       "  'Direct': {'Overall_Accuracy': 0.6666666666666666,\n",
       "   'Executable_Rate': 0.7810945273631841,\n",
       "   'Executable_Accuracy': 0.8535031847133758},\n",
       "  'CoT': {'Overall_Accuracy': 0.6666666666666666,\n",
       "   'Executable_Rate': 0.7810945273631841,\n",
       "   'Executable_Accuracy': 0.8535031847133758}},\n",
       " 'LogicalDeduction': {'random': {'Overall_Accuracy': 0.8466666666666667,\n",
       "   'Executable_Rate': 1.0,\n",
       "   'Executable_Accuracy': 0.8466666666666667},\n",
       "  'Direct': {'Overall_Accuracy': 0.8466666666666667,\n",
       "   'Executable_Rate': 1.0,\n",
       "   'Executable_Accuracy': 0.8466666666666667},\n",
       "  'CoT': {'Overall_Accuracy': 0.8466666666666667,\n",
       "   'Executable_Rate': 1.0,\n",
       "   'Executable_Accuracy': 0.8466666666666667}},\n",
       " 'AR-LSAT': {'random': {'Overall_Accuracy': 0.31601731601731603,\n",
       "   'Executable_Rate': 0.26406926406926406,\n",
       "   'Executable_Accuracy': 0.6065573770491803},\n",
       "  'Direct': {'Overall_Accuracy': 0.16017316017316016,\n",
       "   'Executable_Rate': 0.26406926406926406,\n",
       "   'Executable_Accuracy': 0.6065573770491803},\n",
       "  'CoT': {'Overall_Accuracy': 0.16017316017316016,\n",
       "   'Executable_Rate': 0.2597402597402597,\n",
       "   'Executable_Accuracy': 0.6166666666666667}}}"
      ]
     },
     "execution_count": 11,
     "metadata": {},
     "output_type": "execute_result"
    }
   ],
   "source": [
    "logic_lm_results[\"gemini-1.5-pro-preview-0514\"]"
   ]
  },
  {
   "cell_type": "code",
   "execution_count": 9,
   "metadata": {},
   "outputs": [
    {
     "name": "stdout",
     "output_type": "stream",
     "text": [
      "|ProntoQA|gemini-1.0-pro-vision-001|gemini-1.5-pro-preview-0409|gemini-1.5-pro-preview-0514|gemini-1.5-flash-preview-0514|\n",
      " |---|---|---|---|---| \n",
      "|Overall_Accuracy|77.40|93.80|0.00|0.00|\n",
      "|Executable_Rate|100.00|96.40|0.00|0.00|\n",
      "|Executable_Accuracy|77.40|97.30|0.00|0.00|\n",
      "\n",
      "|ProofWriter|gemini-1.0-pro-vision-001|gemini-1.5-pro-preview-0409|gemini-1.5-pro-preview-0514|gemini-1.5-flash-preview-0514|\n",
      " |---|---|---|---|---| \n",
      "|Overall_Accuracy|---|71.96|0.00|2.50|\n",
      "|Executable_Rate|---|89.36|0.00|4.67|\n",
      "|Executable_Accuracy|---|80.53|0.00|53.57|\n",
      "\n",
      "|FOLIO|gemini-1.0-pro-vision-001|gemini-1.5-pro-preview-0409|gemini-1.5-pro-preview-0514|gemini-1.5-flash-preview-0514|\n",
      " |---|---|---|---|---| \n",
      "|Overall_Accuracy|---|48.51|66.67|4.41|\n",
      "|Executable_Rate|---|58.91|78.11|4.41|\n",
      "|Executable_Accuracy|---|82.35|85.35|100.00|\n",
      "\n",
      "|LogicalDeduction|gemini-1.0-pro-vision-001|gemini-1.5-pro-preview-0409|gemini-1.5-pro-preview-0514|gemini-1.5-flash-preview-0514|\n",
      " |---|---|---|---|---| \n",
      "|Overall_Accuracy|---|52.33|84.67|50.00|\n",
      "|Executable_Rate|---|60.00|100.00|71.67|\n",
      "|Executable_Accuracy|---|87.22|84.67|69.77|\n",
      "\n",
      "|AR-LSAT|gemini-1.0-pro-vision-001|gemini-1.5-pro-preview-0409|gemini-1.5-pro-preview-0514|gemini-1.5-flash-preview-0514|\n",
      " |---|---|---|---|---| \n",
      "|Overall_Accuracy|---|0.00|16.02|20.35|\n",
      "|Executable_Rate|---|0.00|25.97|33.77|\n",
      "|Executable_Accuracy|---|0.00|61.67|60.26|\n",
      "\n"
     ]
    }
   ],
   "source": [
    "print_Logic_LM_table(logic_lm_results, dataset_names)"
   ]
  },
  {
   "cell_type": "code",
   "execution_count": null,
   "metadata": {},
   "outputs": [],
   "source": [
    "print_best_vs_best_table(baseline_results, logic_lm_results, dataset_names)"
   ]
  },
  {
   "cell_type": "code",
   "execution_count": null,
   "metadata": {},
   "outputs": [],
   "source": [
    "def print_all_gemini_results(baseline_results, logic_lm_results, dataset_names):\n",
    "    for dataset in dataset_names:\n",
    "        for model_name in baseline_results.keys():\n",
    "            acc = logic_lm_results[model_name][dataset]['Overall_Accuracy']\n",
    "            direct_acc = baseline_results[model_name][dataset]['Direct']['Average_EM_score']\n",
    "            cot_acc = baseline_results[model_name][dataset]['CoT']['Average_EM_score']\n",
    "            if acc > max:\n",
    "                max = acc\n",
    "                max_model = model_name\n",
    "            if direct_acc > base_direct:\n",
    "                base_direct = direct_acc\n",
    "                base_direct_model = model_name\n",
    "            if cot_acc > base_cot:\n",
    "                base_cot = cot_acc\n",
    "                base_cot_model = model_name\n",
    "\n",
    "        row_acc = \" | \".join([f\"{100*base_direct:.2f}\", f\"{100*base_cot:.2f}\", f\"{100*max:.2f}\"])\n",
    "        row_model = \" | \".join([base_direct_model, base_cot_model, max_model])\n",
    "\n",
    "        print(row_acc)        \n",
    "        print(row_model)"
   ]
  }
 ],
 "metadata": {
  "kernelspec": {
   "display_name": "solver",
   "language": "python",
   "name": "python3"
  },
  "language_info": {
   "codemirror_mode": {
    "name": "ipython",
    "version": 3
   },
   "file_extension": ".py",
   "mimetype": "text/x-python",
   "name": "python",
   "nbconvert_exporter": "python",
   "pygments_lexer": "ipython3",
   "version": "3.12.3"
  },
  "orig_nbformat": 4,
  "vscode": {
   "interpreter": {
    "hash": "ae49cb43b6d9e770d85e5ce15fa5cfe518ebb40f6b4914cb8dc14414c280a84a"
   }
  }
 },
 "nbformat": 4,
 "nbformat_minor": 2
}
