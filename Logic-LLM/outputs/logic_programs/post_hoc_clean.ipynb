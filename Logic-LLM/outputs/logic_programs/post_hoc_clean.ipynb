{
 "cells": [
  {
   "cell_type": "code",
   "execution_count": 6,
   "metadata": {},
   "outputs": [],
   "source": [
    "import json\n",
    "\n",
    "model = 'gemini-1.5-flash-preview-0514'\n",
    "\n",
    "def clean_gemini_response(response_text):\n",
    "    \"\"\"Sometimes Gemini gives wrongly formatted output. Could alternatively be solved by adding this to the prompt\"\"\"\n",
    "    # This is not handled with stop_sequences because that leads to stopping too early\n",
    "    response_text_cleaned = response_text.replace('------','')\n",
    "    # Remove text signaling that the code is python \n",
    "    response_text_cleaned = response_text_cleaned.replace('```python','').replace('```','')\n",
    "    return response_text_cleaned"
   ]
  },
  {
   "cell_type": "code",
   "execution_count": 7,
   "metadata": {},
   "outputs": [],
   "source": [
    "\n",
    "# Load JSON data\n",
    "with open(f'AR-LSAT_dev_{model}.json', 'r') as file:\n",
    "    data = json.load(file)\n"
   ]
  },
  {
   "cell_type": "code",
   "execution_count": 8,
   "metadata": {},
   "outputs": [],
   "source": [
    "for element in data:\n",
    "    element['raw_logic_programs'][0] = clean_gemini_response(element['raw_logic_programs'][0])"
   ]
  },
  {
   "cell_type": "code",
   "execution_count": 11,
   "metadata": {},
   "outputs": [],
   "source": [
    "# Save the updated JSON data\n",
    "with open(f'AR-LSAT_dev_{model}.json', 'w') as file:\n",
    "    json.dump(data, file, indent=4)"
   ]
  }
 ],
 "metadata": {
  "kernelspec": {
   "display_name": "DL2",
   "language": "python",
   "name": "python3"
  },
  "language_info": {
   "codemirror_mode": {
    "name": "ipython",
    "version": 3
   },
   "file_extension": ".py",
   "mimetype": "text/x-python",
   "name": "python",
   "nbconvert_exporter": "python",
   "pygments_lexer": "ipython3",
   "version": "3.12.3"
  },
  "orig_nbformat": 4,
  "vscode": {
   "interpreter": {
    "hash": "f83271564d4d988d6ad1bb65f6545c63942fe7ff13ac0238c2678b0f87131f57"
   }
  }
 },
 "nbformat": 4,
 "nbformat_minor": 2
}
