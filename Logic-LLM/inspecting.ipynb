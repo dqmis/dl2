{
 "cells": [
  {
   "cell_type": "code",
   "execution_count": 2,
   "metadata": {},
   "outputs": [],
   "source": [
    "import json\n",
    "import os"
   ]
  },
  {
   "cell_type": "code",
   "execution_count": 12,
   "metadata": {},
   "outputs": [
    {
     "ename": "FileNotFoundError",
     "evalue": "[Errno 2] No such file or directory: 'logic_lm_data.json'",
     "output_type": "error",
     "traceback": [
      "\u001b[0;31m---------------------------------------------------------------------------\u001b[0m",
      "\u001b[0;31mFileNotFoundError\u001b[0m                         Traceback (most recent call last)",
      "Cell \u001b[0;32mIn[12], line 31\u001b[0m\n\u001b[1;32m     28\u001b[0m     \u001b[39mreturn\u001b[39;00m table_string\n\u001b[1;32m     30\u001b[0m \u001b[39m# Load JSON data\u001b[39;00m\n\u001b[0;32m---> 31\u001b[0m \u001b[39mwith\u001b[39;00m \u001b[39mopen\u001b[39;49m(\u001b[39m\"\u001b[39;49m\u001b[39mlogic_lm_data.json\u001b[39;49m\u001b[39m\"\u001b[39;49m, \u001b[39m\"\u001b[39;49m\u001b[39mr\u001b[39;49m\u001b[39m\"\u001b[39;49m) \u001b[39mas\u001b[39;00m f:\n\u001b[1;32m     32\u001b[0m     logic_lm_json \u001b[39m=\u001b[39m json\u001b[39m.\u001b[39mload(f)\n\u001b[1;32m     33\u001b[0m \u001b[39mwith\u001b[39;00m \u001b[39mopen\u001b[39m(\u001b[39m\"\u001b[39m\u001b[39mdirect_data.json\u001b[39m\u001b[39m\"\u001b[39m, \u001b[39m\"\u001b[39m\u001b[39mr\u001b[39m\u001b[39m\"\u001b[39m) \u001b[39mas\u001b[39;00m f:\n",
      "File \u001b[0;32m~/miniconda3/envs/solver/lib/python3.12/site-packages/IPython/core/interactiveshell.py:324\u001b[0m, in \u001b[0;36m_modified_open\u001b[0;34m(file, *args, **kwargs)\u001b[0m\n\u001b[1;32m    317\u001b[0m \u001b[39mif\u001b[39;00m file \u001b[39min\u001b[39;00m {\u001b[39m0\u001b[39m, \u001b[39m1\u001b[39m, \u001b[39m2\u001b[39m}:\n\u001b[1;32m    318\u001b[0m     \u001b[39mraise\u001b[39;00m \u001b[39mValueError\u001b[39;00m(\n\u001b[1;32m    319\u001b[0m         \u001b[39mf\u001b[39m\u001b[39m\"\u001b[39m\u001b[39mIPython won\u001b[39m\u001b[39m'\u001b[39m\u001b[39mt let you open fd=\u001b[39m\u001b[39m{\u001b[39;00mfile\u001b[39m}\u001b[39;00m\u001b[39m by default \u001b[39m\u001b[39m\"\u001b[39m\n\u001b[1;32m    320\u001b[0m         \u001b[39m\"\u001b[39m\u001b[39mas it is likely to crash IPython. If you know what you are doing, \u001b[39m\u001b[39m\"\u001b[39m\n\u001b[1;32m    321\u001b[0m         \u001b[39m\"\u001b[39m\u001b[39myou can use builtins\u001b[39m\u001b[39m'\u001b[39m\u001b[39m open.\u001b[39m\u001b[39m\"\u001b[39m\n\u001b[1;32m    322\u001b[0m     )\n\u001b[0;32m--> 324\u001b[0m \u001b[39mreturn\u001b[39;00m io_open(file, \u001b[39m*\u001b[39;49margs, \u001b[39m*\u001b[39;49m\u001b[39m*\u001b[39;49mkwargs)\n",
      "\u001b[0;31mFileNotFoundError\u001b[0m: [Errno 2] No such file or directory: 'logic_lm_data.json'"
     ]
    }
   ],
   "source": [
    "import json\n",
    "\n",
    "def generate_markdown_table(logic_lm_json, direct_json, cot_json):\n",
    "    \"\"\"Generates markdown table from JSON data.\n",
    "    \"\"\"\n",
    "\n",
    "    table_header = \"| Dataset | gemini-1.0-pro-vision-001 | gemini-1.5-pro-preview-0409 | gemini-1.5-pro-preview-0514 | gemini-1.5-flash-preview-0514 |\\n\"\n",
    "    table_header += \"|---|---|---|---|---| \\n\"\n",
    "\n",
    "    table_rows = []\n",
    "    for task in logic_lm_json[\"gemini-1.0-pro-vision-001\"]:\n",
    "        logic_lm_score = logic_lm_json[\"gemini-1.0-pro-vision-001\"][task][\"Overall_Accuracy\"]\n",
    "        direct_score = direct_json[\"gemini-1.5-flash-preview-0514\"][task][\"Direct\"][\"Average_EM_score\"]\n",
    "        cot_score = cot_json[\"gemini-1.5-flash-preview-0514\"][task][\"CoT\"][\"Average_EM_score\"]\n",
    "        gemini_1_5_pro_preview_0409_score = direct_json[\"gemini-1.5-pro-preview-0409\"][task][\"Direct\"][\"Average_EM_score\"]\n",
    "        gemini_1_5_pro_preview_0514_score = direct_json[\"gemini-1.5-pro-preview-0514\"][task][\"Direct\"][\"Average_EM_score\"]\n",
    "        table_rows.append(f\"| {task} | {logic_lm_score:.2f} | {gemini_1_5_pro_preview_0409_score:.2f} | {gemini_1_5_pro_preview_0514_score:.2f} | {direct_score:.2f} | {cot_score:.2f} |\")\n",
    "\n",
    "    table_string = table_header + \"\\n\".join(table_rows)\n",
    "    return table_string\n",
    "\n",
    "# Load the JSON data\n",
    "with open(\"./baselines/evaluation/evaluation_baselines.json\", \"r\") as f:\n",
    "    baseline_results = json.load(f)\n",
    "\n",
    "with open(\"./outputs/evaluation/evaluation_logic_programs.json\", \"r\") as f:\n",
    "    logic_lm_results = json.load(f)\n",
    "\n",
    "# Generate markdown table\n",
    "markdown_table = generate_markdown_table(baseline_results, logic_lm_results)\n",
    "\n",
    "# Print markdown table\n",
    "print(markdown_table)"
   ]
  },
  {
   "cell_type": "code",
   "execution_count": 11,
   "metadata": {},
   "outputs": [
    {
     "name": "stdout",
     "output_type": "stream",
     "text": [
      "| Dataset | ChatGPT | GPT-3.5 | GPT-4 | \n",
      "|---|---|---|---||\n",
      "| ProntoQA | 47.40 | 51.80 | 77.40 | \n",
      "| ProofWriter | 35.50 | 36.16 | 52.67 | \n",
      "| FOLIO | 45.09 | 54.60 | 69.11 | \n",
      "| LogicalDeduction | 40.00 | 41.33 | 71.33 | \n",
      "| AR-LSAT | 20.34 | 22.51 | 33.33 | \n",
      "\n"
     ]
    }
   ],
   "source": [
    "import json\n",
    "\n",
    "def generate_markdown_table(data):\n",
    "    \"\"\"Generates a markdown table from a JSON dictionary.\n",
    "\n",
    "    Args:\n",
    "        data: A dictionary containing the data for the table.\n",
    "\n",
    "    Returns:\n",
    "        A string containing the markdown table.\n",
    "    \"\"\"\n",
    "\n",
    "    # Get the model names from the first level of the dictionary\n",
    "    models = list(data.keys())\n",
    "\n",
    "    # Get the task names from the second level of the dictionary\n",
    "    tasks = list(data[models[0]].keys())\n",
    "\n",
    "    # Create the table header\n",
    "    table = \"| Dataset | \" + \" | \".join(models) + \" | \\n\"\n",
    "    table += \"|---|---|\" + \"---|\" * (len(models) - 1) + \"|\\n\"\n",
    "\n",
    "    # Add the data to the table\n",
    "    for task in tasks:\n",
    "        table += f\"| {task} | \"\n",
    "        for model in models:\n",
    "            table += f\"{data[model][task]:.2f} | \"\n",
    "        table += \"\\n\"\n",
    "\n",
    "    return table\n",
    "\n",
    "# Example usage:\n",
    "data = {\n",
    "    \"ChatGPT\": {\n",
    "        \"ProntoQA\": 47.40,\n",
    "        \"ProofWriter\": 35.50,\n",
    "        \"FOLIO\": 45.09,\n",
    "        \"LogicalDeduction\": 40.00,\n",
    "        \"AR-LSAT\": 20.34\n",
    "    },\n",
    "    \"GPT-3.5\": {\n",
    "        \"ProntoQA\": 51.80,\n",
    "        \"ProofWriter\": 36.16,\n",
    "        \"FOLIO\": 54.60,\n",
    "        \"LogicalDeduction\": 41.33,\n",
    "        \"AR-LSAT\": 22.51\n",
    "    },\n",
    "    \"GPT-4\": {\n",
    "        \"ProntoQA\": 77.40,\n",
    "        \"ProofWriter\": 52.67,\n",
    "        \"FOLIO\": 69.11,\n",
    "        \"LogicalDeduction\": 71.33,\n",
    "        \"AR-LSAT\": 33.33\n",
    "    }\n",
    "}\n",
    "\n",
    "markdown_table = generate_markdown_table(data)\n",
    "print(markdown_table)"
   ]
  },
  {
   "cell_type": "code",
   "execution_count": 10,
   "metadata": {},
   "outputs": [
    {
     "name": "stdout",
     "output_type": "stream",
     "text": [
      "| Dataset | Standard | CoT | Logic-LM |\n",
      "|-|-|-|-|-\n",
      "| ProntoQA | 77.4 | 98.79 | 83.2 |\n",
      "| ProofWriter | 52.67 | 68.11 | 79.66 |\n",
      "| FOLIO | 69.11 | 70.58 | 78.92 |\n",
      "| LogicalDeduction | 71.33 | 75.25 | 87.63 |\n",
      "| AR-LSAT | 33.33 | 35.06 | 43.04 |\n",
      "\n"
     ]
    }
   ],
   "source": [
    "def generate_markdown_table(data):\n",
    "    \"\"\"Generates a markdown table from a JSON dictionary.\n",
    "\n",
    "    Args:\n",
    "        data: A dictionary containing the data for the table.\n",
    "\n",
    "    Returns:\n",
    "        A string containing the markdown table.\n",
    "    \"\"\"\n",
    "\n",
    "    # Get the headers from the first row of the data\n",
    "    headers = list(data[0].keys())\n",
    "\n",
    "    # Create the table header row\n",
    "    table = \"| \" + \" | \".join(headers) + \" |\" + \"\\n\"\n",
    "    table += \"|-\" * (len(headers) + 1) + \"\\n\"\n",
    "\n",
    "    # Add the data rows\n",
    "    for row in data:\n",
    "        table += \"| \" + \" | \".join([str(value) for value in row.values()]) + \" |\" + \"\\n\"\n",
    "\n",
    "    return table\n",
    "\n",
    "def generate_github_markdown(data, filename=\"table.md\"):\n",
    "    \"\"\"Generates a GitHub markdown file from a JSON dictionary.\n",
    "\n",
    "    Args:\n",
    "        data: A dictionary containing the data for the table.\n",
    "        filename: The name of the output markdown file.\n",
    "    \"\"\"\n",
    "\n",
    "    # Generate the markdown table\n",
    "    markdown_table = generate_markdown_table(data)\n",
    "\n",
    "    # Write the markdown table to a file\n",
    "    with open(filename, \"w\") as f:\n",
    "        f.write(markdown_table)\n",
    "\n",
    "# Example JSON data\n",
    "data = [\n",
    "    {\"Dataset\": \"ProntoQA\", \"Standard\": 47.40, \"CoT\": 67.80, \"Logic-LM\": 61.00, \"Standard\": 51.80, \"CoT\": 83.00, \"Logic-LM\": 85.00, \"Standard\": 77.40, \"CoT\": 98.79, \"Logic-LM\": 83.20},\n",
    "    {\"Dataset\": \"ProofWriter\", \"Standard\": 35.50, \"CoT\": 49.17, \"Logic-LM\": 58.33, \"Standard\": 36.16, \"CoT\": 48.33, \"Logic-LM\": 71.45, \"Standard\": 52.67, \"CoT\": 68.11, \"Logic-LM\": 79.66},\n",
    "    {\"Dataset\": \"FOLIO\", \"Standard\": 45.09, \"CoT\": 57.35, \"Logic-LM\": 62.74, \"Standard\": 54.60, \"CoT\": 57.84, \"Logic-LM\": 61.27, \"Standard\": 69.11, \"CoT\": 70.58, \"Logic-LM\": 78.92},\n",
    "    {\"Dataset\": \"LogicalDeduction\", \"Standard\": 40.00, \"CoT\": 42.33, \"Logic-LM\": 65.67, \"Standard\": 41.33, \"CoT\": 48.33, \"Logic-LM\": 62.00, \"Standard\": 71.33, \"CoT\": 75.25, \"Logic-LM\": 87.63},\n",
    "    {\"Dataset\": \"AR-LSAT\", \"Standard\": 20.34, \"CoT\": 17.31, \"Logic-LM\": 26.41, \"Standard\": 22.51, \"CoT\": 22.51, \"Logic-LM\": 25.54, \"Standard\": 33.33, \"CoT\": 35.06, \"Logic-LM\": 43.04}\n",
    "]\n",
    "\n",
    "# # Generate the GitHub markdown file\n",
    "# generate_github_markdown(data)\n",
    "\n",
    "# # Load the JSON data\n",
    "# with open(\"./baselines/evaluation/evaluation_baselines.json\", \"r\") as f:\n",
    "#     baseline_results = json.load(f)\n",
    "\n",
    "# with open(\"./outputs/evaluation/evaluation_logic_programs.json\", \"r\") as f:\n",
    "#     logic_lm_results = json.load(f)\n",
    "\n",
    "# Generate the markdown table\n",
    "markdown_table = generate_markdown_table(data)\n",
    "\n",
    "# Print the markdown table\n",
    "print(markdown_table)"
   ]
  },
  {
   "cell_type": "code",
   "execution_count": 2,
   "metadata": {},
   "outputs": [],
   "source": [
    "gemini_models = [\"gemini-1.0-pro-vision-001\", \"gemini-1.5-pro-preview-0409\"]"
   ]
  },
  {
   "cell_type": "code",
   "execution_count": 6,
   "metadata": {},
   "outputs": [],
   "source": [
    "gemini_models = ['gemini-1.5-flash-preview-0514']"
   ]
  },
  {
   "cell_type": "code",
   "execution_count": 7,
   "metadata": {},
   "outputs": [],
   "source": [
    "dataset_name = \"AR-LSAT\"\n",
    "split = \"dev\"\n",
    "model_name = gemini_models[0]\n",
    "backup = \"random\"\n",
    "\n",
    "program_path = os.path.join(\"outputs/logic_programs\", f\"{dataset_name}_{split}_{model_name}.json\")\n",
    "result_path = os.path.join(\"outputs/logic_inference\", f\"{dataset_name}_{split}_{model_name}_backup-{backup}.json\")\n",
    "\n",
    "with open(program_path, \"r\") as json_file:\n",
    "    programs = json.load(json_file)\n",
    "\n",
    "with open(result_path, \"r\") as json_file:\n",
    "    results = json.load(json_file)"
   ]
  },
  {
   "cell_type": "code",
   "execution_count": 1,
   "metadata": {},
   "outputs": [
    {
     "ename": "NameError",
     "evalue": "name 'json' is not defined",
     "output_type": "error",
     "traceback": [
      "\u001b[0;31m---------------------------------------------------------------------------\u001b[0m",
      "\u001b[0;31mNameError\u001b[0m                                 Traceback (most recent call last)",
      "Cell \u001b[0;32mIn[1], line 10\u001b[0m\n\u001b[1;32m      7\u001b[0m result_path \u001b[39m=\u001b[39m os\u001b[39m.\u001b[39mpath\u001b[39m.\u001b[39mjoin(\u001b[39m\"\u001b[39m\u001b[39moutputs/logic_inference\u001b[39m\u001b[39m\"\u001b[39m, \u001b[39mf\u001b[39m\u001b[39m\"\u001b[39m\u001b[39m{\u001b[39;00mdataset_name\u001b[39m}\u001b[39;00m\u001b[39m_\u001b[39m\u001b[39m{\u001b[39;00msplit\u001b[39m}\u001b[39;00m\u001b[39m_\u001b[39m\u001b[39m{\u001b[39;00mmodel_name\u001b[39m}\u001b[39;00m\u001b[39m_backup-\u001b[39m\u001b[39m{\u001b[39;00mbackup\u001b[39m}\u001b[39;00m\u001b[39m.json\u001b[39m\u001b[39m\"\u001b[39m)\n\u001b[1;32m      9\u001b[0m \u001b[39mwith\u001b[39;00m \u001b[39mopen\u001b[39m(program_path, \u001b[39m\"\u001b[39m\u001b[39mr\u001b[39m\u001b[39m\"\u001b[39m) \u001b[39mas\u001b[39;00m json_file:\n\u001b[0;32m---> 10\u001b[0m     programs_gpt \u001b[39m=\u001b[39m json\u001b[39m.\u001b[39mload(json_file)\n\u001b[1;32m     12\u001b[0m \u001b[39mwith\u001b[39;00m \u001b[39mopen\u001b[39m(result_path, \u001b[39m\"\u001b[39m\u001b[39mr\u001b[39m\u001b[39m\"\u001b[39m) \u001b[39mas\u001b[39;00m json_file:\n\u001b[1;32m     13\u001b[0m     results_gpt \u001b[39m=\u001b[39m json\u001b[39m.\u001b[39mload(json_file)\n",
      "\u001b[0;31mNameError\u001b[0m: name 'json' is not defined"
     ]
    }
   ],
   "source": [
    "dataset_name = \"AR-LSAT\"\n",
    "split = \"dev\"\n",
    "model_name = \"gpt-4\"\n",
    "backup = \"random\"\n",
    "\n",
    "program_path = os.path.join(\"outputs/logic_programs\", f\"{dataset_name}_{split}_{model_name}.json\")\n",
    "result_path = os.path.join(\"outputs/logic_inference\", f\"{dataset_name}_{split}_{model_name}_backup-{backup}.json\")\n",
    "\n",
    "with open(program_path, \"r\") as json_file:\n",
    "    programs_gpt = json.load(json_file)\n",
    "\n",
    "with open(result_path, \"r\") as json_file:\n",
    "    results_gpt = json.load(json_file)\n"
   ]
  },
  {
   "cell_type": "code",
   "execution_count": 6,
   "metadata": {},
   "outputs": [],
   "source": [
    "for program, result, program_gpt, result_gpt in zip(programs, results, programs_gpt, results_gpt):\n",
    "    if result_gpt[\"flag\"] == \"success\" and result[\"flag\"] in [\"parsing error\", \"execution error\"]:\n",
    "        print(program[\"raw_logic_programs\"][0])\n",
    "        break"
   ]
  },
  {
   "cell_type": "code",
   "execution_count": 7,
   "metadata": {},
   "outputs": [],
   "source": [
    "for program, result in zip(programs, results):\n",
    "    # if result[\"id\"] ==  \"ar_lsat_200006_1-G_1_6\":\n",
    "    #     print(result[\"flag\"])\n",
    "    # print(result[\"flag\"])\n",
    "    if result[\"flag\"] == \"success\":\n",
    "        print(result[\"flag\"])\n",
    "        print(program[\"raw_logic_programs\"][0])\n",
    "        break\n"
   ]
  },
  {
   "cell_type": "code",
   "execution_count": 3,
   "metadata": {},
   "outputs": [],
   "source": [
    "from models.symbolic_solvers.z3_solver.sat_problem_solver import LSAT_Z3_Program"
   ]
  },
  {
   "cell_type": "code",
   "execution_count": 12,
   "metadata": {},
   "outputs": [
    {
     "name": "stdout",
     "output_type": "stream",
     "text": [
      "['(D)']\n"
     ]
    }
   ],
   "source": [
    "logic_program = '''# Declarations\n",
    "people = EnumSort([Vladimir, Wendy])\n",
    "meals = EnumSort([breakfast, lunch, dinner, snack])\n",
    "foods = EnumSort([fish, hot_cakes, macaroni, omelet, poached_eggs])\n",
    "eats = Function([people, meals] -> [foods])\n",
    "\n",
    "# Constraints\n",
    "ForAll([m:meals], eats(Vladimir, m) != eats(Wendy, m)) ::: At no meal does Vladimir eat the same kind of food as Wendy\n",
    "ForAll([p:people, f:foods], Count([m:meals], eats(p, m) == f) <= 1) ::: Neither of them eats the same kind of food more than once during the day\n",
    "ForAll([p:people], Or(eats(p, breakfast) == hot_cakes, eats(p, breakfast) == poached_eggs, eats(p, breakfast) == omelet)) ::: For breakfast, each eats exactly one of the following: hot cakes, poached eggs, or omelet\n",
    "ForAll([p:people], Or(eats(p, lunch) == fish, eats(p, lunch) == hot_cakes, eats(p, lunch) == macaroni, eats(p, lunch) == omelet)) ::: For lunch, each eats exactly one of the following: fish, hot cakes, macaroni, or omelet\n",
    "ForAll([p:people], Or(eats(p, dinner) == fish, eats(p, dinner) == hot_cakes, eats(p, dinner) == macaroni, eats(p, dinner) == omelet)) ::: For dinner, each eats exactly one of the following: fish, hot cakes, macaroni, or omelet\n",
    "ForAll([p:people], Or(eats(p, snack) == fish, eats(p, snack) == omelet)) ::: For a snack, each eats exactly one of the following: fish or omelet\n",
    "eats(Wendy, lunch) == omelet ::: Wendy eats an omelet for lunch\n",
    "\n",
    "# Options\n",
    "Question ::: Vladimir must eat which one of the following foods?\n",
    "is_valid(Exists([m:meals], eats(Vladimir, m) == fish)) ::: (A)\n",
    "is_valid(Exists([m:meals], eats(Vladimir, m) == hot_cakes)) ::: (B)\n",
    "is_valid(Exists([m:meals], eats(Vladimir, m) == macaroni)) ::: (C)\n",
    "is_valid(Exists([m:meals], eats(Vladimir, m) == omelet)) ::: (D)\n",
    "is_valid(Exists([m:meals], eats(Vladimir, m) == poached_eggs)) ::: (E)'''\n",
    "\n",
    "\n",
    "z3_program = LSAT_Z3_Program(logic_program, 'AR-LSAT')\n",
    "# print(z3_program.standard_code)\n",
    "\n",
    "output, error_message = z3_program.execute_program()\n",
    "print(output)\n",
    "# print(z3_program.answer_mapping(output))"
   ]
  }
 ],
 "metadata": {
  "kernelspec": {
   "display_name": "solver",
   "language": "python",
   "name": "python3"
  },
  "language_info": {
   "codemirror_mode": {
    "name": "ipython",
    "version": 3
   },
   "file_extension": ".py",
   "mimetype": "text/x-python",
   "name": "python",
   "nbconvert_exporter": "python",
   "pygments_lexer": "ipython3",
   "version": "3.12.3"
  },
  "orig_nbformat": 4,
  "vscode": {
   "interpreter": {
    "hash": "ae49cb43b6d9e770d85e5ce15fa5cfe518ebb40f6b4914cb8dc14414c280a84a"
   }
  }
 },
 "nbformat": 4,
 "nbformat_minor": 2
}
