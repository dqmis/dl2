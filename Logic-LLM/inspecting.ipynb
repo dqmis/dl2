{
 "cells": [
  {
   "cell_type": "code",
   "execution_count": 5,
   "metadata": {},
   "outputs": [],
   "source": [
    "import json\n",
    "import os"
   ]
  },
  {
   "cell_type": "code",
   "execution_count": 2,
   "metadata": {},
   "outputs": [],
   "source": [
    "gemini_models = [\"gemini-1.0-pro-vision-001\", \"gemini-1.5-pro-preview-0409\"]"
   ]
  },
  {
   "cell_type": "code",
   "execution_count": 6,
   "metadata": {},
   "outputs": [],
   "source": [
    "gemini_models = ['gemini-1.5-flash-preview-0514']"
   ]
  },
  {
   "cell_type": "code",
   "execution_count": 7,
   "metadata": {},
   "outputs": [],
   "source": [
    "dataset_name = \"AR-LSAT\"\n",
    "split = \"dev\"\n",
    "model_name = gemini_models[0]\n",
    "backup = \"random\"\n",
    "\n",
    "program_path = os.path.join(\"outputs/logic_programs\", f\"{dataset_name}_{split}_{model_name}.json\")\n",
    "result_path = os.path.join(\"outputs/logic_inference\", f\"{dataset_name}_{split}_{model_name}_backup-{backup}.json\")\n",
    "\n",
    "with open(program_path, \"r\") as json_file:\n",
    "    programs = json.load(json_file)\n",
    "\n",
    "with open(result_path, \"r\") as json_file:\n",
    "    results = json.load(json_file)"
   ]
  },
  {
   "cell_type": "code",
   "execution_count": 8,
   "metadata": {},
   "outputs": [],
   "source": [
    "dataset_name = \"AR-LSAT\"\n",
    "split = \"dev\"\n",
    "model_name = \"gpt-4\"\n",
    "backup = \"random\"\n",
    "\n",
    "program_path = os.path.join(\"outputs/logic_programs\", f\"{dataset_name}_{split}_{model_name}.json\")\n",
    "result_path = os.path.join(\"outputs/logic_inference\", f\"{dataset_name}_{split}_{model_name}_backup-{backup}.json\")\n",
    "\n",
    "with open(program_path, \"r\") as json_file:\n",
    "    programs_gpt = json.load(json_file)\n",
    "\n",
    "with open(result_path, \"r\") as json_file:\n",
    "    results_gpt = json.load(json_file)\n"
   ]
  },
  {
   "cell_type": "code",
   "execution_count": 6,
   "metadata": {},
   "outputs": [],
   "source": [
    "for program, result, program_gpt, result_gpt in zip(programs, results, programs_gpt, results_gpt):\n",
    "    if result_gpt[\"flag\"] == \"success\" and result[\"flag\"] in [\"parsing error\", \"execution error\"]:\n",
    "        print(program[\"raw_logic_programs\"][0])\n",
    "        break"
   ]
  },
  {
   "cell_type": "code",
   "execution_count": 7,
   "metadata": {},
   "outputs": [],
   "source": [
    "for program, result in zip(programs, results):\n",
    "    # if result[\"id\"] ==  \"ar_lsat_200006_1-G_1_6\":\n",
    "    #     print(result[\"flag\"])\n",
    "    # print(result[\"flag\"])\n",
    "    if result[\"flag\"] == \"success\":\n",
    "        print(result[\"flag\"])\n",
    "        print(program[\"raw_logic_programs\"][0])\n",
    "        break\n"
   ]
  },
  {
   "cell_type": "code",
   "execution_count": 3,
   "metadata": {},
   "outputs": [],
   "source": [
    "from models.symbolic_solvers.z3_solver.sat_problem_solver import LSAT_Z3_Program"
   ]
  },
  {
   "cell_type": "code",
   "execution_count": 12,
   "metadata": {},
   "outputs": [
    {
     "name": "stdout",
     "output_type": "stream",
     "text": [
      "['(D)']\n"
     ]
    }
   ],
   "source": [
    "logic_program = '''# Declarations\n",
    "people = EnumSort([Vladimir, Wendy])\n",
    "meals = EnumSort([breakfast, lunch, dinner, snack])\n",
    "foods = EnumSort([fish, hot_cakes, macaroni, omelet, poached_eggs])\n",
    "eats = Function([people, meals] -> [foods])\n",
    "\n",
    "# Constraints\n",
    "ForAll([m:meals], eats(Vladimir, m) != eats(Wendy, m)) ::: At no meal does Vladimir eat the same kind of food as Wendy\n",
    "ForAll([p:people, f:foods], Count([m:meals], eats(p, m) == f) <= 1) ::: Neither of them eats the same kind of food more than once during the day\n",
    "ForAll([p:people], Or(eats(p, breakfast) == hot_cakes, eats(p, breakfast) == poached_eggs, eats(p, breakfast) == omelet)) ::: For breakfast, each eats exactly one of the following: hot cakes, poached eggs, or omelet\n",
    "ForAll([p:people], Or(eats(p, lunch) == fish, eats(p, lunch) == hot_cakes, eats(p, lunch) == macaroni, eats(p, lunch) == omelet)) ::: For lunch, each eats exactly one of the following: fish, hot cakes, macaroni, or omelet\n",
    "ForAll([p:people], Or(eats(p, dinner) == fish, eats(p, dinner) == hot_cakes, eats(p, dinner) == macaroni, eats(p, dinner) == omelet)) ::: For dinner, each eats exactly one of the following: fish, hot cakes, macaroni, or omelet\n",
    "ForAll([p:people], Or(eats(p, snack) == fish, eats(p, snack) == omelet)) ::: For a snack, each eats exactly one of the following: fish or omelet\n",
    "eats(Wendy, lunch) == omelet ::: Wendy eats an omelet for lunch\n",
    "\n",
    "# Options\n",
    "Question ::: Vladimir must eat which one of the following foods?\n",
    "is_valid(Exists([m:meals], eats(Vladimir, m) == fish)) ::: (A)\n",
    "is_valid(Exists([m:meals], eats(Vladimir, m) == hot_cakes)) ::: (B)\n",
    "is_valid(Exists([m:meals], eats(Vladimir, m) == macaroni)) ::: (C)\n",
    "is_valid(Exists([m:meals], eats(Vladimir, m) == omelet)) ::: (D)\n",
    "is_valid(Exists([m:meals], eats(Vladimir, m) == poached_eggs)) ::: (E)'''\n",
    "\n",
    "\n",
    "z3_program = LSAT_Z3_Program(logic_program, 'AR-LSAT')\n",
    "# print(z3_program.standard_code)\n",
    "\n",
    "output, error_message = z3_program.execute_program()\n",
    "print(output)\n",
    "# print(z3_program.answer_mapping(output))"
   ]
  }
 ],
 "metadata": {
  "kernelspec": {
   "display_name": "solver",
   "language": "python",
   "name": "python3"
  },
  "language_info": {
   "codemirror_mode": {
    "name": "ipython",
    "version": 3
   },
   "file_extension": ".py",
   "mimetype": "text/x-python",
   "name": "python",
   "nbconvert_exporter": "python",
   "pygments_lexer": "ipython3",
   "version": "3.12.3 | packaged by Anaconda, Inc. | (main, May  6 2024, 19:46:43) [GCC 11.2.0]"
  },
  "orig_nbformat": 4,
  "vscode": {
   "interpreter": {
    "hash": "ae49cb43b6d9e770d85e5ce15fa5cfe518ebb40f6b4914cb8dc14414c280a84a"
   }
  }
 },
 "nbformat": 4,
 "nbformat_minor": 2
}
